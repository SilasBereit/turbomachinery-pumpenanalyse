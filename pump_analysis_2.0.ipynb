{
  "nbformat": 4,
  "nbformat_minor": 0,
  "metadata": {
    "colab": {
      "provenance": []
    },
    "kernelspec": {
      "name": "python3",
      "display_name": "Python 3"
    },
    "language_info": {
      "name": "python"
    }
  },
  "cells": [
    {
      "cell_type": "code",
      "source": [
        "import pandas as pd\n",
        "import numpy as np\n",
        "from scipy.interpolate import interp1d\n",
        "\n",
        "# URL der CSV-Datei auf GitHub\n",
        "url = 'https://raw.githubusercontent.com/SilasBereit/turbomachinery-pumpenanalyse/main/volume_flow_data.csv'\n",
        "\n",
        "# Lade die CSV-Datei mit Semikolon als Trennzeichen und ohne unnötige Spalten\n",
        "df = pd.read_csv(url, sep=';', usecols=[0, 1])  # Wir verwenden nur die ersten zwei Spalten\n",
        "\n",
        "# Manuelle Benennung der Spalten\n",
        "df.columns = ['timestamp', 'flow_rate_m3h']\n",
        "\n",
        "# Datentypen umwandeln\n",
        "df['timestamp'] = pd.to_datetime(df['timestamp'], format='%d.%m.%y %H:%M')\n",
        "\n",
        "# m³/h → m³/s\n",
        "df['flow_rate_m3s'] = df['flow_rate_m3h'] / 3600\n",
        "\n",
        "# Zeitdifferenz berechnen\n",
        "df['time_delta_s'] = df['timestamp'].diff().dt.total_seconds()\n",
        "df['time_delta_s'] = df['time_delta_s'].fillna(0)  # Keine Warnung mehr\n",
        "\n",
        "# Kennlinie für Impeller Ø264 mm (geschätzt aus Diagramm)\n",
        "flow_m3h = np.array([110, 240, 300, 350, 425, 495, 555])\n",
        "head_m = np.array([23, 22, 21, 20, 18, 16, 14.3])\n",
        "\n",
        "head_interpolator = interp1d(flow_m3h, head_m, bounds_error=False, fill_value=\"extrapolate\")\n",
        "df['head_m'] = head_interpolator(df['flow_rate_m3h'])\n",
        "\n",
        "# Konstanten\n",
        "rho = 1000       # Dichte [kg/m³]\n",
        "g = 9.81         # Erdbeschleunigung [m/s²]\n",
        "\n",
        "# Hydraulische Leistung\n",
        "df['P_hydraulic'] = rho * g * df['flow_rate_m3s'] * df['head_m']  # [Watt]\n",
        "\n",
        "# Berechnung der zugeführten Leistung (Input Power)\n",
        "# Hier nehmen wir eine Annahme für den Gesamtwirkungsgrad der Pumpe\n",
        "df['P_input'] = df['P_hydraulic'] / 0.7  # Angenommener Wirkungsgrad von 70% (0.7)\n",
        "\n",
        "# Energie\n",
        "df['E_hydraulic'] = df['P_hydraulic'] * df['time_delta_s']\n",
        "df['E_input'] = df['P_input'] * df['time_delta_s']\n",
        "\n",
        "# Gesamtenergie in kWh\n",
        "total_energy_joule = df['E_input'].sum()\n",
        "total_energy_kWh = total_energy_joule / 3.6e6\n",
        "\n",
        "# Genutzte Energie in kWh (hydraulische Arbeit)\n",
        "total_hydraulic_energy_joule = df['E_hydraulic'].sum()\n",
        "total_hydraulic_energy_kWh = total_hydraulic_energy_joule / 3.6e6\n",
        "\n",
        "# Pumpen-Effizienz berechnen (Verhältnis von genutzter Energie zu zugeführter Energie)\n",
        "pump_efficiency = total_hydraulic_energy_kWh / total_energy_kWh * 100\n",
        "\n",
        "# Ausgabe der Ergebnisse\n",
        "print(f\"Gesamte zugeführte Energie: {total_energy_kWh:.2f} kWh\")\n",
        "print(f\"Gesamte genutzte Energie (hydraulische Arbeit): {total_hydraulic_energy_kWh:.2f} kWh\")\n",
        "print(f\"Pumpen-Effizienz: {pump_efficiency:.2f}%\")\n"
      ],
      "metadata": {
        "colab": {
          "base_uri": "https://localhost:8080/"
        },
        "id": "2t5Zv-HV8n5-",
        "outputId": "38d4afcf-f379-48ac-cf5e-f52e3134c14a"
      },
      "execution_count": 12,
      "outputs": [
        {
          "output_type": "stream",
          "name": "stdout",
          "text": [
            "Gesamte zugeführte Energie: 85.35 kWh\n",
            "Gesamte genutzte Energie (hydraulische Arbeit): 59.75 kWh\n",
            "Pumpen-Effizienz: 70.00%\n"
          ]
        }
      ]
    },
    {
      "cell_type": "code",
      "source": [],
      "metadata": {
        "id": "jranbMfO8ysZ"
      },
      "execution_count": null,
      "outputs": []
    }
  ]
}