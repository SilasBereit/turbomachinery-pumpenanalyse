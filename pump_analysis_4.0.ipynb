{
  "nbformat": 4,
  "nbformat_minor": 0,
  "metadata": {
    "colab": {
      "provenance": []
    },
    "kernelspec": {
      "name": "python3",
      "display_name": "Python 3"
    },
    "language_info": {
      "name": "python"
    }
  },
  "cells": [
    {
      "cell_type": "code",
      "source": [
        "\n"
      ],
      "metadata": {
        "id": "1OUruWtrmbnu"
      },
      "execution_count": 3,
      "outputs": []
    },
    {
      "cell_type": "code",
      "source": [
        "import pandas as pd\n",
        "import numpy as np\n",
        "from scipy.interpolate import interp1d\n",
        "\n",
        "# -----------------------------------------\n",
        "# CSV-Datei einlesen und vorbereiten\n",
        "# -----------------------------------------\n",
        "url = 'https://raw.githubusercontent.com/SilasBereit/turbomachinery-pumpenanalyse/main/volume_flow_data.csv'\n",
        "\n",
        "# CSV-Datei mit Header einlesen\n",
        "df = pd.read_csv(url, sep=',')\n",
        "\n",
        "# Spalten vereinfachen\n",
        "df.columns = ['timestamp', 'flow_rate_m3h']\n",
        "\n",
        "# Timestamp umwandeln\n",
        "df['timestamp'] = pd.to_datetime(df['timestamp'], format='%Y-%m-%d %H:%M:%S')\n",
        "\n",
        "# m³/h → m³/s\n",
        "df['flow_rate_m3s'] = df['flow_rate_m3h'] / 3600\n",
        "\n",
        "# Zeitdifferenz berechnen (Sekunden)\n",
        "df['time_delta_s'] = df['timestamp'].diff().dt.total_seconds()\n",
        "df = df.dropna().reset_index(drop=True)  # erste Zeile ohne Delta t entfernen\n",
        "\n",
        "# -----------------------------------------\n",
        "# Förderhöhe interpolieren (Pumpenkennlinie)\n",
        "# -----------------------------------------\n",
        "flow_m3h = np.array([110, 240, 300, 350, 425, 495, 555])  # Volumenstrom in m³/h\n",
        "head_m = np.array([23, 22, 21, 20, 18, 16, 14.3])         # Förderhöhe in m\n",
        "\n",
        "head_interpolator = interp1d(flow_m3h, head_m, bounds_error=False, fill_value=\"extrapolate\")\n",
        "df['head_m'] = head_interpolator(df['flow_rate_m3h'])\n",
        "\n",
        "# Konstanten\n",
        "rho = 969   # Dichte des Mediums [kg/m³]\n",
        "g = 9.81    # Erdbeschleunigung [m/s²]\n",
        "\n",
        "# -----------------------------------------\n",
        "# Aufgabe 1: Energieverbrauch berechnen\n",
        "# -----------------------------------------\n",
        "\n",
        "# Hydraulische Leistung berechnen: P = rho * g * Q * H\n",
        "df['P_hydraulic'] = rho * g * df['flow_rate_m3s'] * df['head_m']  # [W]\n",
        "\n",
        "# Eingangsleistung interpolieren (aus Datenblatt)\n",
        "flow_for_input_power = np.array([0, 120, 260, 340, 400, 460, 540])  # m³/h\n",
        "input_power_kW = np.array([12.2, 15.9, 19.9, 22, 23, 24, 25])       # kW\n",
        "\n",
        "input_power_interpolator = interp1d(flow_for_input_power, input_power_kW, bounds_error=False, fill_value=\"extrapolate\")\n",
        "df['P_input'] = input_power_interpolator(df['flow_rate_m3h']) * 1000  # [W]\n",
        "\n",
        "# Energie Input [J]\n",
        "df['E_input'] = df['P_input'] * df['time_delta_s']\n",
        "total_E_input_kWh = df['E_input'].sum() / 3.6e6\n",
        "\n",
        "print(f\"Aufgabe 1 - Gesamte zugeführte Energie: {total_E_input_kWh:.2f} kWh\")\n",
        "\n",
        "# -----------------------------------------\n",
        "# Aufgabe 2: Durchschnittlicher Wirkungsgrad\n",
        "# -----------------------------------------\n",
        "\n",
        "# Hydraulische Energie [J]\n",
        "df['E_hydraulic'] = df['P_hydraulic'] * df['time_delta_s']\n",
        "total_E_hydraulic_kWh = df['E_hydraulic'].sum() / 3.6e6\n",
        "\n",
        "# Wirkungsgrad [%]\n",
        "pump_efficiency = (total_E_hydraulic_kWh / total_E_input_kWh) * 100\n",
        "\n",
        "print(f\"Aufgabe 2 - Durchschnittlicher Pumpenwirkungsgrad: {pump_efficiency:.2f} %\")\n",
        "\n",
        "# -----------------------------------------\n",
        "# 🛠️ Aufgabe 3: Verlustleistung bestimmen\n",
        "# -----------------------------------------\n",
        "\n",
        "unused_energy_kWh = total_E_input_kWh - total_E_hydraulic_kWh\n",
        "print(f\"Aufgabe 3 - Nicht genutzte Energie: {unused_energy_kWh:.2f} kWh\")\n"
      ],
      "metadata": {
        "colab": {
          "base_uri": "https://localhost:8080/"
        },
        "id": "Hi35YdZpsXRp",
        "outputId": "81dac20e-a986-4a65-f0ee-395a5fc70f4e"
      },
      "execution_count": 3,
      "outputs": [
        {
          "output_type": "stream",
          "name": "stdout",
          "text": [
            "Aufgabe 1 - Gesamte zugeführte Energie: 469.24 kWh\n",
            "Aufgabe 2 - Durchschnittlicher Pumpenwirkungsgrad: 71.73 %\n",
            "Aufgabe 3 - Nicht genutzte Energie: 132.67 kWh\n"
          ]
        }
      ]
    }
  ]
}