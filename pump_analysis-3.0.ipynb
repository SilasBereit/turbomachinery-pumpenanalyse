{
  "nbformat": 4,
  "nbformat_minor": 0,
  "metadata": {
    "colab": {
      "provenance": []
    },
    "kernelspec": {
      "name": "python3",
      "display_name": "Python 3"
    },
    "language_info": {
      "name": "python"
    }
  },
  "cells": [
    {
      "cell_type": "code",
      "source": [
        "import pandas as pd\n",
        "import numpy as np\n",
        "from scipy.interpolate import interp1d\n",
        "\n",
        "# -----------------------------------------\n",
        "# Daten einlesen und vorbereiten\n",
        "# -----------------------------------------\n",
        "url = 'https://raw.githubusercontent.com/SilasBereit/turbomachinery-pumpenanalyse/main/volume_flow_data.csv'\n",
        "\n",
        "df = pd.read_csv(url, sep=';', usecols=[0, 1])\n",
        "df.columns = ['timestamp', 'flow_rate_m3h']\n",
        "df['timestamp'] = pd.to_datetime(df['timestamp'], format='%d.%m.%y %H:%M')\n",
        "\n",
        "# Volumenstrom m³/h → m³/s\n",
        "df['flow_rate_m3s'] = df['flow_rate_m3h'] / 3600\n",
        "\n",
        "# Zeitdifferenz zwischen Messpunkten berechnen (Sekunden)\n",
        "df['time_delta_s'] = df['timestamp'].diff().dt.total_seconds()\n",
        "df.loc[0, 'time_delta_s'] = 0  # Erste Zeile auf 0 setzen, da kein Delta vorhanden\n",
        "\n",
        "# -----------------------------------------\n",
        "# Pumpen-Kennlinie: Förderhöhe als Funktion vom Volumenstrom\n",
        "# -----------------------------------------\n",
        "flow_m3h = np.array([110, 240, 300, 350, 425, 495, 555])\n",
        "head_m = np.array([23, 22, 21, 20, 18, 16, 14.3])\n",
        "\n",
        "head_interpolator = interp1d(flow_m3h, head_m, bounds_error=False, fill_value=\"extrapolate\")\n",
        "df['head_m'] = head_interpolator(df['flow_rate_m3h'])\n",
        "\n",
        "# Konstanten\n",
        "rho = 1000  # kg/m³ (Dichte Wasser)\n",
        "g = 9.81    # m/s² (Erdbeschleunigung)\n",
        "\n",
        "# -----------------------------------------\n",
        "# Aufgabe 1: Energieverbrauch berechnen\n",
        "# -----------------------------------------\n",
        "\n",
        "# Hydraulische Leistung berechnen: P = rho * g * Q * H\n",
        "df['P_hydraulic'] = rho * g * df['flow_rate_m3s'] * df['head_m']  # Watt\n",
        "\n",
        "# Eingangsleistung aus Datenblatt (Impeller Ø264 mm)\n",
        "flow_for_input_power = np.array([0, 120, 260, 340, 400, 460, 540])  # m³/h\n",
        "input_power_kW = np.array([12.2, 15.9, 19.9, 22, 23, 24, 25])       # kW\n",
        "\n",
        "input_power_interpolator = interp1d(flow_for_input_power, input_power_kW,\n",
        "                                    bounds_error=False, fill_value=\"extrapolate\")\n",
        "\n",
        "df['P_input'] = input_power_interpolator(df['flow_rate_m3h']) * 1000  # W\n",
        "\n",
        "# Energie Input pro Zeitintervall [Joule]\n",
        "df['E_input'] = df['P_input'] * df['time_delta_s']\n",
        "\n",
        "# Gesamte zugeführte Energie in kWh\n",
        "total_E_input_kWh = df['E_input'].sum() / 3.6e6\n",
        "\n",
        "print(f\"Aufgabe 1 - Gesamte zugeführte Energie: {total_E_input_kWh:.2f} kWh\")\n",
        "\n",
        "# -----------------------------------------\n",
        "# Aufgabe 2: Durchschnittliche Pumpen-Wirkungsgrad berechnen\n",
        "# -----------------------------------------\n",
        "\n",
        "# Hydraulische Energie pro Intervall [Joule]\n",
        "df['E_hydraulic'] = df['P_hydraulic'] * df['time_delta_s']\n",
        "\n",
        "# Gesamte hydraulische Energie in kWh\n",
        "total_E_hydraulic_kWh = df['E_hydraulic'].sum() / 3.6e6\n",
        "\n",
        "# Wirkungsgrad als Verhältnis der hydraulischen Energie zur Inputenergie\n",
        "pump_efficiency = (total_E_hydraulic_kWh / total_E_input_kWh) * 100\n",
        "\n",
        "print(f\"Aufgabe 2 - Durchschnittlicher Pumpenwirkungsgrad: {pump_efficiency:.2f} %\")\n",
        "\n",
        "# -----------------------------------------\n",
        "# Aufgabe 3: Nicht genutzte Energie berechnen\n",
        "# -----------------------------------------\n",
        "\n",
        "# Differenz: Eingangsenergie minus hydraulische Energie\n",
        "unused_energy_kWh = total_E_input_kWh - total_E_hydraulic_kWh\n",
        "\n",
        "print(f\"Aufgabe 3 - Nicht genutzte Energie: {unused_energy_kWh:.2f} kWh\")\n"
      ],
      "metadata": {
        "colab": {
          "base_uri": "https://localhost:8080/"
        },
        "id": "1OUruWtrmbnu",
        "outputId": "f87e801e-7a71-4c55-f402-fdef47790846"
      },
      "execution_count": 13,
      "outputs": [
        {
          "output_type": "stream",
          "name": "stdout",
          "text": [
            "Aufgabe 1 - Gesamte zugeführte Energie: 80.46 kWh\n",
            "Aufgabe 2 - Durchschnittlicher Pumpenwirkungsgrad: 74.26 %\n",
            "Aufgabe 3 - Nicht genutzte Energie: 20.71 kWh\n"
          ]
        }
      ]
    }
  ]
}