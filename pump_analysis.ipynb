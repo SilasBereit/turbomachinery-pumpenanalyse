{
  "nbformat": 4,
  "nbformat_minor": 0,
  "metadata": {
    "colab": {
      "provenance": []
    },
    "kernelspec": {
      "name": "python3",
      "display_name": "Python 3"
    },
    "language_info": {
      "name": "python"
    }
  },
  "cells": [
    {
      "cell_type": "code",
      "execution_count": 9,
      "metadata": {
        "colab": {
          "base_uri": "https://localhost:8080/"
        },
        "id": "LGwjDz4bSe4N",
        "outputId": "47b1769c-9fde-4f02-a6cd-fb28f93bd203"
      },
      "outputs": [
        {
          "output_type": "stream",
          "name": "stdout",
          "text": [
            "        timestamp  flow_rate_m3h\n",
            "0  01.04.24 00:00         312.54\n",
            "1  01.04.24 00:01         193.78\n",
            "2  01.04.24 00:02         393.96\n",
            "3  01.04.24 00:03         364.70\n",
            "4  01.04.24 00:04         100.33\n",
            "Gesamte hydraulische Energie: 59.75 kWh\n"
          ]
        }
      ],
      "source": [
        "import pandas as pd\n",
        "import numpy as np\n",
        "from scipy.interpolate import interp1d\n",
        "\n",
        "# URL der CSV-Datei auf GitHub\n",
        "url = 'https://raw.githubusercontent.com/SilasBereit/turbomachinery-pumpenanalyse/main/volume_flow_data.csv'\n",
        "\n",
        "# Lade die CSV-Datei mit Semikolon als Trennzeichen und ohne unnötige Spalten\n",
        "df = pd.read_csv(url, sep=';', usecols=[0, 1])  # Wir verwenden nur die ersten zwei Spalten\n",
        "\n",
        "# Manuelle Benennung der Spalten\n",
        "df.columns = ['timestamp', 'flow_rate_m3h']\n",
        "\n",
        "# Überprüfe die ersten paar Zeilen\n",
        "print(df.head())\n",
        "\n",
        "# Datentypen umwandeln\n",
        "df['timestamp'] = pd.to_datetime(df['timestamp'], format='%d.%m.%y %H:%M')\n",
        "\n",
        "# m³/h → m³/s\n",
        "df['flow_rate_m3s'] = df['flow_rate_m3h'] / 3600\n",
        "\n",
        "# Zeitdifferenz berechnen\n",
        "df['time_delta_s'] = df['timestamp'].diff().dt.total_seconds()\n",
        "df['time_delta_s'] = df['time_delta_s'].fillna(0)  # Keine Warnung mehr\n",
        "\n",
        "# Kennlinie für Impeller Ø264 mm (geschätzt aus Diagramm)\n",
        "flow_m3h = np.array([110, 240, 300, 350, 425, 495, 555])\n",
        "head_m = np.array([23, 22, 21, 20, 18, 16, 14.3])\n",
        "\n",
        "head_interpolator = interp1d(flow_m3h, head_m, bounds_error=False, fill_value=\"extrapolate\")\n",
        "df['head_m'] = head_interpolator(df['flow_rate_m3h'])\n",
        "\n",
        "# Konstanten\n",
        "rho = 1000       # Dichte [kg/m³]\n",
        "g = 9.81         # Erdbeschleunigung [m/s²]\n",
        "\n",
        "# Hydraulische Leistung\n",
        "df['P_hydraulic'] = rho * g * df['flow_rate_m3s'] * df['head_m']  # [Watt]\n",
        "\n",
        "# Energie\n",
        "df['E_hydraulic'] = df['P_hydraulic'] * df['time_delta_s']\n",
        "\n",
        "# Gesamtenergie in kWh\n",
        "total_energy_joule = df['E_hydraulic'].sum()\n",
        "total_energy_kWh = total_energy_joule / 3.6e6\n",
        "\n",
        "print(f\"Gesamte hydraulische Energie: {total_energy_kWh:.2f} kWh\")\n"
      ]
    },
    {
      "cell_type": "code",
      "source": [],
      "metadata": {
        "id": "XiV3rpzEZNJT"
      },
      "execution_count": null,
      "outputs": []
    }
  ]
}